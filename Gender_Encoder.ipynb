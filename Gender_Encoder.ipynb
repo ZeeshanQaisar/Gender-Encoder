{
  "nbformat": 4,
  "nbformat_minor": 0,
  "metadata": {
    "colab": {
      "name": "Gender Encoder.ipynb",
      "provenance": [],
      "collapsed_sections": []
    },
    "kernelspec": {
      "name": "python3",
      "display_name": "Python 3"
    },
    "language_info": {
      "name": "python"
    }
  },
  "cells": [
    {
      "cell_type": "code",
      "metadata": {
        "colab": {
          "base_uri": "https://localhost:8080/"
        },
        "id": "Sv-NTFyZex46",
        "outputId": "c810986d-fe40-4988-eb70-6f4e75f82789"
      },
      "source": [
        "from google.colab import drive\n",
        "drive.mount('/content/drive')"
      ],
      "execution_count": 1,
      "outputs": [
        {
          "output_type": "stream",
          "text": [
            "Mounted at /content/drive\n"
          ],
          "name": "stdout"
        }
      ]
    },
    {
      "cell_type": "code",
      "metadata": {
        "colab": {
          "base_uri": "https://localhost:8080/"
        },
        "id": "HTRmLKU9fWSk",
        "outputId": "e995ae94-cde3-4fa0-aa45-92e8ea791407"
      },
      "source": [
        "! ls"
      ],
      "execution_count": 2,
      "outputs": [
        {
          "output_type": "stream",
          "text": [
            "drive  sample_data\n"
          ],
          "name": "stdout"
        }
      ]
    },
    {
      "cell_type": "code",
      "metadata": {
        "id": "q8q0cgKHf5t8"
      },
      "source": [
        "from scipy.spatial import distance as dist\n",
        "from imutils import face_utils\n",
        "import imutils\n",
        "import dlib\n",
        "import cv2\n",
        "import os\n",
        "import numpy as np\n",
        "import pandas as pd\n",
        "\n",
        "\n",
        "#Calculating Distances from d1 to d8\n",
        "\n",
        "def distance(mouth, nose, lefteye, righteye):\n",
        " d1 = dist.euclidean(mouth[0], mouth[6])\n",
        " d2 = dist.euclidean(mouth[3], mouth[9])\n",
        " d3 = dist.euclidean(mouth[0], nose[4])\n",
        " d4 = dist.euclidean(mouth[6], nose[8])\n",
        " d5 = dist.euclidean(mouth[0], righteye[0])\n",
        " d6 = dist.euclidean(mouth[6], lefteye[3])\n",
        " d7 = dist.euclidean(mouth[2], mouth[10])\n",
        " d8 = dist.euclidean(mouth[4], mouth[8])\n",
        "\n",
        " return d1,d2,d3,d4,d5,d6,d7,d8\n",
        "\n",
        "shape_predictor = '/content/drive/MyDrive/shape_predictor_68_face_landmarks.dat'\n",
        "\n",
        "detector = dlib.get_frontal_face_detector()\n",
        "predictor = dlib.shape_predictor(shape_predictor)\n",
        "\n",
        "(mStart, mEnd) = face_utils.FACIAL_LANDMARKS_IDXS['mouth']\n",
        "(nStart, nEnd) = face_utils.FACIAL_LANDMARKS_IDXS['nose']\n",
        "(eLStart, eLEnd) = face_utils.FACIAL_LANDMARKS_IDXS['left_eye']\n",
        "(eRStart, eREnd) = face_utils.FACIAL_LANDMARKS_IDXS['right_eye']\n",
        "\n",
        "\n",
        "directory = '/content/drive/MyDrive/RefinedDataSet'\n",
        "for filename in os.listdir(directory):\n",
        "    if filename.endswith(\".jpg\") or filename.endswith(\".png\"):\n",
        "        total= directory+'/'+filename\n",
        "        frame=cv2.imread(total)\n",
        "        frame=imutils.resize(frame, width=450)\n",
        "        gray=cv2.cvtColor(frame, cv2.COLOR_BGR2GRAY)\n",
        "        rects=detector(gray, 0)\n",
        "        for rect in rects:\n",
        "            shape = predictor(gray, rect)\n",
        "            shape = face_utils.shape_to_np(shape)\n",
        "\n",
        "            mouth = shape[mStart:mEnd]\n",
        "            nose = shape[nStart:nEnd]\n",
        "            lefteye = shape[eLStart:eLEnd]\n",
        "            rightteye = shape[eRStart:eREnd]\n",
        "            array=[distance(mouth, nose, lefteye, rightteye)]\n",
        "          #  print(array)\n",
        "          #Save Distances into CSV File\n",
        "            results=pd.DataFrame(array)\n",
        "            results.to_csv('result6.csv',mode='a',header='True',index='false')"
      ],
      "execution_count": 4,
      "outputs": []
    },
    {
      "cell_type": "code",
      "metadata": {
        "colab": {
          "base_uri": "https://localhost:8080/"
        },
        "id": "t-Vj4dovhG1X",
        "outputId": "b336643f-c4db-48ee-b76e-6de2bd1db7e8"
      },
      "source": [
        "\n",
        "\t\t\t#RandomForestClassifier\n",
        "import pandas as pd\n",
        "from sklearn.model_selection import train_test_split\n",
        "from sklearn.ensemble import RandomForestClassifier\n",
        "from sklearn.metrics import classification_report, confusion_matrix, accuracy_score\n",
        "from sklearn.preprocessing import StandardScaler \n",
        "\n",
        "path =('/content/drive/MyDrive/result.csv') #CSV PATH\n",
        "dataset =pd.read_csv(path)\n",
        "\n",
        "X = dataset.iloc[:,1:8]  #X equal to all distances\n",
        "y = dataset.iloc[:, 0].values    #Y equal to gender\n",
        "\n",
        "X_train, X_test, y_train, y_test = train_test_split(X, y, test_size = 0.2)\n",
        "\n",
        "sc= StandardScaler()   #DataPreProcessing Standarlization \n",
        "X_train=sc.fit_transform(X_train)\n",
        "X_test=sc.transform(X_test)\n",
        "\n",
        "classifier = RandomForestClassifier(n_estimators =50,random_state= 0)\n",
        "classifier.fit(X_train, y_train)\n",
        "y_pred = classifier.predict(X_test)\n",
        "\n",
        "result = confusion_matrix(y_test, y_pred)\n",
        "print(\"Confusion Matrix:\")\n",
        "print(result)\n",
        "result1 = classification_report(y_test, y_pred)\n",
        "print(\"Classification Report:\",)\n",
        "print (result1)\n",
        "result2 = accuracy_score(y_test,y_pred)\n",
        "print(\"Accuracy:\",result2)"
      ],
      "execution_count": 21,
      "outputs": [
        {
          "output_type": "stream",
          "text": [
            "Confusion Matrix:\n",
            "[[3 3]\n",
            " [3 3]]\n",
            "Classification Report:\n",
            "              precision    recall  f1-score   support\n",
            "\n",
            "           0       0.50      0.50      0.50         6\n",
            "           1       0.50      0.50      0.50         6\n",
            "\n",
            "    accuracy                           0.50        12\n",
            "   macro avg       0.50      0.50      0.50        12\n",
            "weighted avg       0.50      0.50      0.50        12\n",
            "\n",
            "Accuracy: 0.5\n"
          ],
          "name": "stdout"
        }
      ]
    },
    {
      "cell_type": "code",
      "metadata": {
        "colab": {
          "base_uri": "https://localhost:8080/"
        },
        "id": "BJuPxoAvho2Q",
        "outputId": "853a93ef-dc6b-4c16-bbfe-c7bb7cc84bc4"
      },
      "source": [
        "#Naive Bayes Classifier\n",
        "\n",
        "import numpy as np\n",
        "import pandas as pd\n",
        "from sklearn.naive_bayes import GaussianNB\n",
        "from sklearn.model_selection import train_test_split\n",
        "from sklearn.metrics import accuracy_score\n",
        "from sklearn.preprocessing import StandardScaler\n",
        "from sklearn.metrics import classification_report, confusion_matrix, accuracy_score \n",
        "\n",
        "path ='/content/drive/MyDrive/result.csv'  #CSV PATH\n",
        "dataset = pd.read_csv(path)\n",
        "dataset.head()\n",
        "\n",
        "X = dataset.iloc[:,1:8].values\n",
        "y = dataset.iloc[:, 0].values\n",
        "\n",
        "features_train, features_test, target_train, target_test = train_test_split(X,\n",
        "y,\n",
        "test_size = 0.3)\n",
        "\n",
        "sc= StandardScaler() #DataPreProcessing Standarlization\n",
        "features_train=sc.fit_transform(features_train)\n",
        "features_test=sc.transform(features_test)\n",
        "\n",
        "model = GaussianNB()\n",
        "model.fit(features_train, target_train)\n",
        "\n",
        "pred = model.predict(features_test)\n",
        "accuracy = accuracy_score(target_test, pred)\n",
        "result=classification_report(target_test, pred)\n",
        "print(result)\n",
        "print(accuracy)"
      ],
      "execution_count": 23,
      "outputs": [
        {
          "output_type": "stream",
          "text": [
            "              precision    recall  f1-score   support\n",
            "\n",
            "           0       0.33      0.25      0.29         8\n",
            "           1       0.50      0.60      0.55        10\n",
            "\n",
            "    accuracy                           0.44        18\n",
            "   macro avg       0.42      0.42      0.42        18\n",
            "weighted avg       0.43      0.44      0.43        18\n",
            "\n",
            "0.4444444444444444\n"
          ],
          "name": "stdout"
        }
      ]
    },
    {
      "cell_type": "code",
      "metadata": {
        "colab": {
          "base_uri": "https://localhost:8080/"
        },
        "id": "9tKOcE7bh3fA",
        "outputId": "6bc37dbd-282b-477d-dbae-d92b5dc41b86"
      },
      "source": [
        "#SVM\n",
        "import pandas as pd\n",
        "from sklearn.model_selection import train_test_split\n",
        "from sklearn.metrics import classification_report, confusion_matrix, accuracy_score\n",
        "from sklearn.preprocessing import StandardScaler \n",
        "from sklearn.svm import SVC\n",
        "\n",
        "\n",
        "url = '/content/drive/MyDrive/result.csv'\n",
        "dataset = pd.read_csv(url)  \n",
        "dataset.head()\n",
        "\n",
        "#y = df.gender\n",
        "X = dataset.iloc[:,1:8].values\n",
        "y = dataset.iloc[:,0].values\n",
        "\n",
        "X_train, X_test, y_train, y_test = train_test_split(X, y, test_size=0.3)\n",
        "\n",
        "sc= StandardScaler() #DataPreProcessing Standarlization\n",
        "X_train=sc.fit_transform(X_train)\n",
        "X_test=sc.transform(X_test)\n",
        "\n",
        "model = SVC(kernel='linear')\n",
        "model.fit(X_train, y_train)\n",
        "\n",
        "SVC(C=1.0, cache_size=200, coef0=0.0,\n",
        "  decision_function_shape='ovr', degree=3, gamma='auto_deprecated',\n",
        "  kernel='linear', max_iter=-1, \n",
        "  shrinking=True, tol=0.001)\n",
        "\n",
        "predictions = model.predict(X_test)\n",
        "#print(predictions)\n",
        "\n",
        "percentage = model.score(X_test, y_test)\n",
        "from sklearn.metrics import confusion_matrix\n",
        "res = confusion_matrix(y_test, predictions)\n",
        "print(\"Confusion Matrix\")\n",
        "print(res)\n",
        "print(f\"Test Set: {len(X_test)}\")\n",
        "result =classification_report(y_test, predictions)\n",
        "print(result)\n",
        "print(f\"Accuracy = {percentage*100} %\")"
      ],
      "execution_count": 24,
      "outputs": [
        {
          "output_type": "stream",
          "text": [
            "Confusion Matrix\n",
            "[[4 4]\n",
            " [6 4]]\n",
            "Test Set: 18\n",
            "              precision    recall  f1-score   support\n",
            "\n",
            "           0       0.40      0.50      0.44         8\n",
            "           1       0.50      0.40      0.44        10\n",
            "\n",
            "    accuracy                           0.44        18\n",
            "   macro avg       0.45      0.45      0.44        18\n",
            "weighted avg       0.46      0.44      0.44        18\n",
            "\n",
            "Accuracy = 44.44444444444444 %\n"
          ],
          "name": "stdout"
        }
      ]
    }
  ]
}